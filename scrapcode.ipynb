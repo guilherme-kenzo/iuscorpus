{
 "cells": [
  {
   "cell_type": "code",
   "execution_count": 29,
   "metadata": {},
   "outputs": [],
   "source": [
    "import re\n",
    "from sys import argv\n",
    "from bs4 import BeautifulSoup\n",
    "\n",
    "def get_text(file_name):\n",
    "    with open(file_name) as f:\n",
    "        t = f.read()\n",
    "    bs = BeautifulSoup(t, \"html5lib\")\n",
    "    return bs.text\n",
    "\n",
    "def get_header(text):\n",
    "    idre = re.compile('.+(\\d\\d)|(\\d{4})⁄\\d{7,8}-\\d')\n",
    "    headre = re.compile('\\n[A-Z]+?\\n?:\\n?.+?\\n')\n",
    "    try:\n",
    "        title = idre.search(text).group()\n",
    "    except AttributeError as e:\n",
    "        print(e)\n",
    "        title = None\n",
    "    try:\n",
    "        head = [i.split(':')\n",
    "                for i in [j.replace('\\n', '')\n",
    "                          for j in headre.findall(text)]]\n",
    "    except AttributeError as e:\n",
    "        print(e)\n",
    "        head = None\n",
    "    return {\n",
    "        'title': title,\n",
    "        'head': head\n",
    "    }\n",
    "\n",
    "def get_body(text):\n",
    "    ementare = re.compile('(E M E N T A|EMENTA) +\\n')\n",
    "    afterementare = re.compile('(?<=(E M E N T A|EMENTA)) .+(?=(ACÓRDÃO|A C Ó R D Ã O|DECISÃO|D E C I S Ã O)), flags=re.DOTALL')\n",
    "        "
   ]
  },
  {
   "cell_type": "code",
   "execution_count": 30,
   "metadata": {},
   "outputs": [],
   "source": [
    "text = get_text('data/sample/2.html')"
   ]
  },
  {
   "cell_type": "code",
   "execution_count": 31,
   "metadata": {},
   "outputs": [
    {
     "data": {
      "text/plain": [
       "{'title': 'AGRAVO DE INSTRUMENTO Nº 387.808 - SP (2001⁄0056862',\n",
       " 'head': [['RELATOR', 'MINISTRO FELIX FISCHER'],\n",
       "  ['AGRAVANTE', 'REDE FERROVIARIA FEDERAL - EM LIQUIDACAO'],\n",
       "  ['AGRAVADO', 'NELSON SOARES DE ASSIS ']]}"
      ]
     },
     "execution_count": 31,
     "metadata": {},
     "output_type": "execute_result"
    }
   ],
   "source": [
    "get_header(text)"
   ]
  },
  {
   "cell_type": "code",
   "execution_count": null,
   "metadata": {},
   "outputs": [],
   "source": []
  }
 ],
 "metadata": {
  "kernelspec": {
   "display_name": "Python 3",
   "language": "python",
   "name": "python3"
  },
  "language_info": {
   "codemirror_mode": {
    "name": "ipython",
    "version": 3
   },
   "file_extension": ".py",
   "mimetype": "text/x-python",
   "name": "python",
   "nbconvert_exporter": "python",
   "pygments_lexer": "ipython3",
   "version": "3.6.5"
  }
 },
 "nbformat": 4,
 "nbformat_minor": 2
}
